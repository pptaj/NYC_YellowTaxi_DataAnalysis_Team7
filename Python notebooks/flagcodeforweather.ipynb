{
 "cells": [
  {
   "cell_type": "code",
   "execution_count": 1,
   "metadata": {
    "collapsed": false
   },
   "outputs": [],
   "source": [
    "import pandas as pd\n",
    "import numpy as np\n",
    "# encoding = \"ISO-8859-1\",\n",
    "Data = pd.read_csv(\"weatherData2015.csv\", sep = \",\",encoding = \"ISO-8859-1\",  low_memory= True, skiprows=0)\n",
    "Data.head()\n",
    "\n",
    "\n",
    "#->Precipitation Flag\n",
    "Data[\"Precipitation_flag\"]=1\n",
    "Data.loc[((Data['Conditions']== 'Clear')|\n",
    "            (Data['Conditions']=='Fog')|\n",
    "            (Data['Conditions']=='Haze')|\n",
    "             (Data['Conditions']=='Light Freezing Fog')|\n",
    "             (Data['Conditions']=='Partly Cloudy')|\n",
    "             (Data['Conditions']=='Scattered Clouds')|\n",
    "             (Data['Conditions']=='Unknown')|\n",
    "             (Data['Conditions']==' '))\n",
    "             ,['Precipitation_flag']]=0\n",
    "\n",
    "del Data['PrecipitationIn']\n",
    "Data.head()\n",
    "\n",
    "Data.head()\n",
    "Data.to_csv(\"cleaned_weatherdata_2015final.csv\", sep=',', index = False)\n"
   ]
  },
  {
   "cell_type": "code",
   "execution_count": null,
   "metadata": {
    "collapsed": true
   },
   "outputs": [],
   "source": []
  }
 ],
 "metadata": {
  "kernelspec": {
   "display_name": "Python 3",
   "language": "python",
   "name": "python3"
  },
  "language_info": {
   "codemirror_mode": {
    "name": "ipython",
    "version": 3
   },
   "file_extension": ".py",
   "mimetype": "text/x-python",
   "name": "python",
   "nbconvert_exporter": "python",
   "pygments_lexer": "ipython3",
   "version": "3.5.3"
  }
 },
 "nbformat": 4,
 "nbformat_minor": 2
}
