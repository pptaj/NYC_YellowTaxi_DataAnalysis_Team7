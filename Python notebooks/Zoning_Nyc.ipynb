{
 "cells": [
  {
   "cell_type": "code",
   "execution_count": 1,
   "metadata": {
    "collapsed": false
   },
   "outputs": [
    {
     "name": "stdout",
     "output_type": "stream",
     "text": [
      "here\n"
     ]
    }
   ],
   "source": [
    "# Manhattan coordinates = 40.88, -74.00 : coordinated = 40.70, -73.92\n",
    "\n",
    "\n",
    "import pandas as pd\n",
    "import numpy as np\n",
    "dframe = None\n",
    "columns = ['max_lat','min_long', 'min_lat', 'max_long', 'zone']\n",
    "x = 1\n",
    "\n",
    "min_long = -74.00\n",
    "max_long = -73.97\n",
    "# data = np.array([np.arange(10)]*5).T\n",
    "for i in range(1,5):\n",
    "    max_lat = 40.88\n",
    "    min_lat = 40.85\n",
    "    for j in range(1,8):\n",
    "        \n",
    "        df_ = None\n",
    "        data = np.array([[max_lat], [min_long], [min_lat], [max_long], [x]]).T\n",
    "        df_ = pd.DataFrame(index=None, columns=columns, data = data)\n",
    "        if(dframe is None):\n",
    "            print(\"here\")\n",
    "            dframe = df_\n",
    "        else:\n",
    "            dframe = dframe.append(df_)\n",
    "        x = x + 1\n",
    "        max_lat = max_lat - 0.03\n",
    "        min_lat = min_lat - 0.03\n",
    "    min_long = min_long + 0.03\n",
    "    max_long = max_long + 0.03"
   ]
  },
  {
   "cell_type": "code",
   "execution_count": 2,
   "metadata": {
    "collapsed": false
   },
   "outputs": [],
   "source": [
    "dframe.to_csv(\"Data/Nyc_Zones.csv\")"
   ]
  },
  {
   "cell_type": "code",
   "execution_count": 3,
   "metadata": {
    "collapsed": false
   },
   "outputs": [
    {
     "name": "stdout",
     "output_type": "stream",
     "text": [
      "   max_lat  min_long  min_lat  max_long  zone\n",
      "0    40.88    -74.00    40.85    -73.97   1.0\n",
      "0    40.85    -74.00    40.82    -73.97   2.0\n",
      "0    40.82    -74.00    40.79    -73.97   3.0\n",
      "0    40.79    -74.00    40.76    -73.97   4.0\n",
      "0    40.76    -74.00    40.73    -73.97   5.0\n",
      "0    40.73    -74.00    40.70    -73.97   6.0\n",
      "0    40.70    -74.00    40.67    -73.97   7.0\n",
      "0    40.88    -73.97    40.85    -73.94   8.0\n",
      "0    40.85    -73.97    40.82    -73.94   9.0\n",
      "0    40.82    -73.97    40.79    -73.94  10.0\n",
      "0    40.79    -73.97    40.76    -73.94  11.0\n",
      "0    40.76    -73.97    40.73    -73.94  12.0\n",
      "0    40.73    -73.97    40.70    -73.94  13.0\n",
      "0    40.70    -73.97    40.67    -73.94  14.0\n",
      "0    40.88    -73.94    40.85    -73.91  15.0\n",
      "0    40.85    -73.94    40.82    -73.91  16.0\n",
      "0    40.82    -73.94    40.79    -73.91  17.0\n",
      "0    40.79    -73.94    40.76    -73.91  18.0\n",
      "0    40.76    -73.94    40.73    -73.91  19.0\n",
      "0    40.73    -73.94    40.70    -73.91  20.0\n",
      "0    40.70    -73.94    40.67    -73.91  21.0\n",
      "0    40.88    -73.91    40.85    -73.88  22.0\n",
      "0    40.85    -73.91    40.82    -73.88  23.0\n",
      "0    40.82    -73.91    40.79    -73.88  24.0\n",
      "0    40.79    -73.91    40.76    -73.88  25.0\n",
      "0    40.76    -73.91    40.73    -73.88  26.0\n",
      "0    40.73    -73.91    40.70    -73.88  27.0\n",
      "0    40.70    -73.91    40.67    -73.88  28.0\n"
     ]
    }
   ],
   "source": [
    "print(dframe)"
   ]
  }
 ],
 "metadata": {
  "anaconda-cloud": {},
  "kernelspec": {
   "display_name": "Python [default]",
   "language": "python",
   "name": "python3"
  },
  "language_info": {
   "codemirror_mode": {
    "name": "ipython",
    "version": 3
   },
   "file_extension": ".py",
   "mimetype": "text/x-python",
   "name": "python",
   "nbconvert_exporter": "python",
   "pygments_lexer": "ipython3",
   "version": "3.5.2"
  }
 },
 "nbformat": 4,
 "nbformat_minor": 2
}
