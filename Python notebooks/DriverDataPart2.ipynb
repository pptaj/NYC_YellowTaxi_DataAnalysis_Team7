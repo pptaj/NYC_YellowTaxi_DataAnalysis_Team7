{
 "cells": [
  {
   "cell_type": "code",
   "execution_count": 25,
   "metadata": {
    "collapsed": false
   },
   "outputs": [],
   "source": [
    "def readDriverData():\n",
    "    driverData = None\n",
    "    for i in range (1,7):\n",
    "        \n",
    "        if(i<10):\n",
    "            fn = \"0\" + str(i)\n",
    "        else:\n",
    "            fn = str(i)\n",
    "\n",
    "        fileData = pd.read_csv(\"Data/combinedForDriver_yellow_tripdata_2016-\" + fn + \".csv\", sep=\",\")\n",
    "        try:\n",
    "            driverData = pd.concat([driverData, fileData])\n",
    "        except:\n",
    "            driverData = fileData\n",
    "    return driverData"
   ]
  },
  {
   "cell_type": "code",
   "execution_count": 26,
   "metadata": {
    "collapsed": true
   },
   "outputs": [],
   "source": [
    "def readNycZones():\n",
    "    nycZones = pd.read_csv(\"Data/Nyc_Zones.csv\", sep=\",\")\n",
    "    return nycZones\n"
   ]
  },
  {
   "cell_type": "code",
   "execution_count": 27,
   "metadata": {
    "collapsed": false
   },
   "outputs": [],
   "source": [
    "import pandas as pd\n",
    "\n",
    "# READ Driver Data\n",
    "driverData = readDriverData()\n",
    "\n",
    "# READ NyC_Zones\n",
    "nycZones = readNycZones()\n",
    "\n",
    "# Get Description of Pickup Column\n",
    "descriptionDriverData = driverData.describe(percentiles = [.90, .92, .95])\n",
    "\n",
    "# Create Categorical Column for pickups\n",
    "driverData['pickup_count_category'] = 0\n",
    "driverData.loc[((driverData['count_of_pickups']>= 0) &\n",
    "                      (driverData['count_of_pickups'] <474 )),['pickup_count_category']]=1\n",
    "driverData.loc[((driverData['count_of_pickups']>= 474) &\n",
    "                      (driverData['count_of_pickups'] <726 )),['pickup_count_category']]=2\n",
    "driverData.loc[((driverData['count_of_pickups']>= 726)),['pickup_count_category']]=3\n",
    "\n",
    "# Join Driver Data with Nyc Zone\n",
    "# pickupData = pd.merge(driverData, nycZones,  how='inner', left_on=['pickup_latitude_2decimal','pickup_longitude_2decimal'], right_on = ['max_lat','min_long'])\n",
    "\n",
    "# Assign Zone to pickups\n",
    "driverData['nyc_zone'] = 0\n",
    "# driverData['nyc_zone'].apply(zone(driverData['pickup_latitude_2decimal'],driverData['pickup_longitude_2decimal']))\n",
    "\n",
    "# driverData.loc[((40.85 < driverData['pickup_latitude_2decimal']) & (-73.97 >= driverData['pickup_longitude_2decimal'])) \n",
    "#             & ((40.88 >= driverData['pickup_latitude_2decimal']) & (-74.00 < driverData['pickup_longitude_2decimal'])),\n",
    "#             ['nyc_zone']]=1\n",
    "\n",
    "\n",
    "zone = 1\n",
    "\n",
    "min_long = -74.00\n",
    "max_long = -73.97\n",
    "# data = np.array([np.arange(10)]*5).T\n",
    "for i in range(1,5):\n",
    "    max_lat = 40.88\n",
    "    min_lat = 40.85\n",
    "    for j in range(1,8):\n",
    "        \n",
    "        driverData.loc[((min_lat < driverData['pickup_latitude_2decimal']) & (max_long >= driverData['pickup_longitude_2decimal'])) \n",
    "            & ((max_lat >= driverData['pickup_latitude_2decimal']) & (min_long < driverData['pickup_longitude_2decimal'])),\n",
    "            ['nyc_zone']]=zone\n",
    "        zone = zone + 1\n",
    "        max_lat = max_lat - 0.03\n",
    "        min_lat = min_lat - 0.03\n",
    "    min_long = min_long + 0.03\n",
    "    max_long = max_long + 0.03\n",
    "    \n",
    "    \n",
    "#remove data outside manhattan zones\n",
    "driverData = driverData[(driverData.nyc_zone > 0)]\n",
    "\n",
    "# Remove Unnecessary Columns\n",
    "columnsTODelete =  ['date', 'hour','Conditions',\"Wind_Direction\"]\n",
    "driverData.drop(columnsTODelete, axis=1, inplace=True)\n",
    "\n",
    "# Save Data\n",
    "driverData.to_csv(\"Data/pickupDataForClassification.csv\")\n",
    "\n",
    "# Run Models\n",
    "\n",
    "\n",
    "# Fit Everything in Pipeline"
   ]
  },
  {
   "cell_type": "code",
   "execution_count": 28,
   "metadata": {
    "collapsed": true
   },
   "outputs": [],
   "source": [
    "driverData.to_csv(\"Data/pickupDataForClassification.csv\", index = False)"
   ]
  }
 ],
 "metadata": {
  "anaconda-cloud": {},
  "kernelspec": {
   "display_name": "Python [default]",
   "language": "python",
   "name": "python3"
  },
  "language_info": {
   "codemirror_mode": {
    "name": "ipython",
    "version": 3
   },
   "file_extension": ".py",
   "mimetype": "text/x-python",
   "name": "python",
   "nbconvert_exporter": "python",
   "pygments_lexer": "ipython3",
   "version": "3.5.2"
  }
 },
 "nbformat": 4,
 "nbformat_minor": 2
}
