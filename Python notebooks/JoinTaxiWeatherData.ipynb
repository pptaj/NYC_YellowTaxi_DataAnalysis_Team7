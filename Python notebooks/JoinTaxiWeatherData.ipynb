{
 "cells": [
  {
   "cell_type": "code",
   "execution_count": 1,
   "metadata": {
    "collapsed": true
   },
   "outputs": [],
   "source": [
    "import pandas as pd\n",
    "fn = \"01\"\n",
    "taxiData = pd.read_csv(\"Data/cleaned_yellow_tripdata_2016-\" + fn + \".csv\", sep=\",\")\n",
    "\n",
    "weatherData = pd.read_csv(\"Data/weatherDataCleaned.csv\")"
   ]
  },
  {
   "cell_type": "code",
   "execution_count": 2,
   "metadata": {
    "collapsed": false
   },
   "outputs": [
    {
     "data": {
      "text/plain": [
       "(180214, 23)"
      ]
     },
     "execution_count": 2,
     "metadata": {},
     "output_type": "execute_result"
    }
   ],
   "source": [
    "taxiData.shape"
   ]
  },
  {
   "cell_type": "code",
   "execution_count": 3,
   "metadata": {
    "collapsed": false
   },
   "outputs": [
    {
     "data": {
      "text/plain": [
       "(10406, 13)"
      ]
     },
     "execution_count": 3,
     "metadata": {},
     "output_type": "execute_result"
    }
   ],
   "source": [
    "weatherData.shape"
   ]
  },
  {
   "cell_type": "code",
   "execution_count": 4,
   "metadata": {
    "collapsed": false
   },
   "outputs": [
    {
     "data": {
      "text/html": [
       "<div>\n",
       "<table border=\"1\" class=\"dataframe\">\n",
       "  <thead>\n",
       "    <tr style=\"text-align: right;\">\n",
       "      <th></th>\n",
       "      <th>tpep_pickup_datetime</th>\n",
       "      <th>tpep_dropoff_datetime</th>\n",
       "      <th>passenger_count</th>\n",
       "      <th>trip_distance</th>\n",
       "      <th>pickup_longitude</th>\n",
       "      <th>pickup_latitude</th>\n",
       "      <th>RatecodeID</th>\n",
       "      <th>dropoff_longitude</th>\n",
       "      <th>dropoff_latitude</th>\n",
       "      <th>fare_amount</th>\n",
       "      <th>...</th>\n",
       "      <th>Humidity</th>\n",
       "      <th>Sea_Level_PressureIn</th>\n",
       "      <th>VisibilityMPH</th>\n",
       "      <th>Wind_Direction</th>\n",
       "      <th>Wind_SpeedMPH</th>\n",
       "      <th>PrecipitationIn</th>\n",
       "      <th>Conditions</th>\n",
       "      <th>WindDirDegrees</th>\n",
       "      <th>date</th>\n",
       "      <th>hour</th>\n",
       "    </tr>\n",
       "  </thead>\n",
       "  <tbody>\n",
       "    <tr>\n",
       "      <th>0</th>\n",
       "      <td>2016-01-01 00:00:00</td>\n",
       "      <td>2016-01-01 00:18:30</td>\n",
       "      <td>2</td>\n",
       "      <td>5.52</td>\n",
       "      <td>-73.9801</td>\n",
       "      <td>40.7430</td>\n",
       "      <td>1</td>\n",
       "      <td>-73.9135</td>\n",
       "      <td>40.7631</td>\n",
       "      <td>19.0</td>\n",
       "      <td>...</td>\n",
       "      <td>51</td>\n",
       "      <td>30.06</td>\n",
       "      <td>10.0</td>\n",
       "      <td>Variable</td>\n",
       "      <td>4.6</td>\n",
       "      <td>NaN</td>\n",
       "      <td>Overcast</td>\n",
       "      <td>0</td>\n",
       "      <td>2016-01-01</td>\n",
       "      <td>0</td>\n",
       "    </tr>\n",
       "    <tr>\n",
       "      <th>1</th>\n",
       "      <td>2016-01-01 00:00:00</td>\n",
       "      <td>2016-01-01 00:26:45</td>\n",
       "      <td>2</td>\n",
       "      <td>7.45</td>\n",
       "      <td>-73.9941</td>\n",
       "      <td>40.7200</td>\n",
       "      <td>1</td>\n",
       "      <td>-73.9664</td>\n",
       "      <td>40.7899</td>\n",
       "      <td>26.0</td>\n",
       "      <td>...</td>\n",
       "      <td>51</td>\n",
       "      <td>30.06</td>\n",
       "      <td>10.0</td>\n",
       "      <td>Variable</td>\n",
       "      <td>4.6</td>\n",
       "      <td>NaN</td>\n",
       "      <td>Overcast</td>\n",
       "      <td>0</td>\n",
       "      <td>2016-01-01</td>\n",
       "      <td>0</td>\n",
       "    </tr>\n",
       "    <tr>\n",
       "      <th>2</th>\n",
       "      <td>2016-01-01 00:00:01</td>\n",
       "      <td>2016-01-01 00:11:55</td>\n",
       "      <td>1</td>\n",
       "      <td>1.20</td>\n",
       "      <td>-73.9794</td>\n",
       "      <td>40.7446</td>\n",
       "      <td>1</td>\n",
       "      <td>-73.9920</td>\n",
       "      <td>40.7539</td>\n",
       "      <td>9.0</td>\n",
       "      <td>...</td>\n",
       "      <td>51</td>\n",
       "      <td>30.06</td>\n",
       "      <td>10.0</td>\n",
       "      <td>Variable</td>\n",
       "      <td>4.6</td>\n",
       "      <td>NaN</td>\n",
       "      <td>Overcast</td>\n",
       "      <td>0</td>\n",
       "      <td>2016-01-01</td>\n",
       "      <td>0</td>\n",
       "    </tr>\n",
       "    <tr>\n",
       "      <th>3</th>\n",
       "      <td>2016-01-01 00:00:02</td>\n",
       "      <td>2016-01-01 00:11:14</td>\n",
       "      <td>1</td>\n",
       "      <td>6.00</td>\n",
       "      <td>-73.9472</td>\n",
       "      <td>40.7910</td>\n",
       "      <td>1</td>\n",
       "      <td>-73.9208</td>\n",
       "      <td>40.8656</td>\n",
       "      <td>18.0</td>\n",
       "      <td>...</td>\n",
       "      <td>51</td>\n",
       "      <td>30.06</td>\n",
       "      <td>10.0</td>\n",
       "      <td>Variable</td>\n",
       "      <td>4.6</td>\n",
       "      <td>NaN</td>\n",
       "      <td>Overcast</td>\n",
       "      <td>0</td>\n",
       "      <td>2016-01-01</td>\n",
       "      <td>0</td>\n",
       "    </tr>\n",
       "    <tr>\n",
       "      <th>4</th>\n",
       "      <td>2016-01-01 00:00:02</td>\n",
       "      <td>2016-01-01 00:11:08</td>\n",
       "      <td>1</td>\n",
       "      <td>3.21</td>\n",
       "      <td>-73.9983</td>\n",
       "      <td>40.7239</td>\n",
       "      <td>1</td>\n",
       "      <td>-73.9958</td>\n",
       "      <td>40.6884</td>\n",
       "      <td>11.5</td>\n",
       "      <td>...</td>\n",
       "      <td>51</td>\n",
       "      <td>30.06</td>\n",
       "      <td>10.0</td>\n",
       "      <td>Variable</td>\n",
       "      <td>4.6</td>\n",
       "      <td>NaN</td>\n",
       "      <td>Overcast</td>\n",
       "      <td>0</td>\n",
       "      <td>2016-01-01</td>\n",
       "      <td>0</td>\n",
       "    </tr>\n",
       "  </tbody>\n",
       "</table>\n",
       "<p>5 rows × 36 columns</p>\n",
       "</div>"
      ],
      "text/plain": [
       "  tpep_pickup_datetime tpep_dropoff_datetime  passenger_count  trip_distance  \\\n",
       "0  2016-01-01 00:00:00   2016-01-01 00:18:30                2           5.52   \n",
       "1  2016-01-01 00:00:00   2016-01-01 00:26:45                2           7.45   \n",
       "2  2016-01-01 00:00:01   2016-01-01 00:11:55                1           1.20   \n",
       "3  2016-01-01 00:00:02   2016-01-01 00:11:14                1           6.00   \n",
       "4  2016-01-01 00:00:02   2016-01-01 00:11:08                1           3.21   \n",
       "\n",
       "   pickup_longitude  pickup_latitude  RatecodeID  dropoff_longitude  \\\n",
       "0          -73.9801          40.7430           1           -73.9135   \n",
       "1          -73.9941          40.7200           1           -73.9664   \n",
       "2          -73.9794          40.7446           1           -73.9920   \n",
       "3          -73.9472          40.7910           1           -73.9208   \n",
       "4          -73.9983          40.7239           1           -73.9958   \n",
       "\n",
       "   dropoff_latitude  fare_amount  ...  Humidity Sea_Level_PressureIn  \\\n",
       "0           40.7631         19.0  ...        51                30.06   \n",
       "1           40.7899         26.0  ...        51                30.06   \n",
       "2           40.7539          9.0  ...        51                30.06   \n",
       "3           40.8656         18.0  ...        51                30.06   \n",
       "4           40.6884         11.5  ...        51                30.06   \n",
       "\n",
       "  VisibilityMPH Wind_Direction  Wind_SpeedMPH  PrecipitationIn  Conditions  \\\n",
       "0          10.0       Variable            4.6              NaN    Overcast   \n",
       "1          10.0       Variable            4.6              NaN    Overcast   \n",
       "2          10.0       Variable            4.6              NaN    Overcast   \n",
       "3          10.0       Variable            4.6              NaN    Overcast   \n",
       "4          10.0       Variable            4.6              NaN    Overcast   \n",
       "\n",
       "   WindDirDegrees        date  hour  \n",
       "0               0  2016-01-01     0  \n",
       "1               0  2016-01-01     0  \n",
       "2               0  2016-01-01     0  \n",
       "3               0  2016-01-01     0  \n",
       "4               0  2016-01-01     0  \n",
       "\n",
       "[5 rows x 36 columns]"
      ]
     },
     "execution_count": 4,
     "metadata": {},
     "output_type": "execute_result"
    }
   ],
   "source": [
    "# Join Datasets\n",
    "# Pickup_Date Hour_of_day\n",
    "# date hour\n",
    "\n",
    "fullData = pd.merge(taxiData, weatherData,  how='inner', left_on=['Pickup_Date','Hour_of_day'], right_on = ['date','hour'])\n",
    "fullData.head()"
   ]
  },
  {
   "cell_type": "code",
   "execution_count": 6,
   "metadata": {
    "collapsed": false
   },
   "outputs": [],
   "source": [
    "fullData.to_csv(\"Data/CombinedData.csv\")"
   ]
  }
 ],
 "metadata": {
  "kernelspec": {
   "display_name": "Python [default]",
   "language": "python",
   "name": "python3"
  },
  "language_info": {
   "codemirror_mode": {
    "name": "ipython",
    "version": 3
   },
   "file_extension": ".py",
   "mimetype": "text/x-python",
   "name": "python",
   "nbconvert_exporter": "python",
   "pygments_lexer": "ipython3",
   "version": "3.5.2"
  }
 },
 "nbformat": 4,
 "nbformat_minor": 2
}
