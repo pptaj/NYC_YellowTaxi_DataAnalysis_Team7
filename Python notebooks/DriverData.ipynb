{
 "cells": [
  {
   "cell_type": "code",
   "execution_count": 3,
   "metadata": {
    "collapsed": false
   },
   "outputs": [
    {
     "name": "stdout",
     "output_type": "stream",
     "text": [
      "Shape of new df = (121957, 7)\n",
      "columns in new df : ['Pickup_Date', 'Hour_of_day', 'pickup_latitude_2decimal', 'pickup_longitude_2decimal', 'count_of_pickups', 'Day_of_week', 'Workday_flag']\n",
      "Shape of combinedDataForDrivers = (153029, 20)\n"
     ]
    }
   ],
   "source": [
    "import pandas as pd\n",
    "import numpy as np\n",
    "import os\n",
    "# encoding = \"ISO-8859-1\",\n",
    "\n",
    "weatherData = pd.read_csv(\"Data/cleaned_weatherdata_withflagfinal.csv\")\n",
    "\n",
    "weatherData['date'] = pd.to_datetime(weatherData['date'])\n",
    "\n",
    "for i in range (5,6):\n",
    "    fullData = None\n",
    "    combinedData = None\n",
    "    combinedDataForDrivers = None\n",
    "    if(i<10):\n",
    "        fn = \"0\" + str(i)\n",
    "    else:\n",
    "        fn = str(i)\n",
    "        \n",
    "                \n",
    "    for taxiData in pd.read_csv(\"Data/combinedData_yellow_tripdata_2016-\" + fn + \".csv\", sep=\",\", chunksize = 200000, iterator = True):            \n",
    "    #     Dataset for driver interface\n",
    "        df = pd.DataFrame() # create new df\n",
    "        key_columns = ['Pickup_Date', 'Hour_of_day', 'pickup_latitude_2decimal', 'pickup_longitude_2decimal']\n",
    "        df = taxiData.groupby(key_columns, as_index=False)[\"fare_amount\"].count()\n",
    "        #Rename Fare Amount column\n",
    "        df = df.rename(columns={'fare_amount': 'count_of_pickups'})\n",
    "        \n",
    "        try:\n",
    "            fullData = pd.concat([fullData, df])\n",
    "        except:\n",
    "            fullData = df\n",
    "#         x = x + 1\n",
    "#         if (x == 3):\n",
    "#             break\n",
    "        \n",
    "    fullData['Pickup_Date'] = pd.to_datetime(fullData['Pickup_Date'])\n",
    "    testcombinedDataForDrivers = pd.merge(fullData, weatherData,  how='inner', left_on=['Pickup_Date','Hour_of_day'], right_on = ['date','hour']) \n",
    "    testcombinedDataForDrivers.to_csv(\"Data/testcombinedForDriver_yellow_tripdata_2016-\" + fn + \".csv\", sep=',', index = False)\n",
    "#         grouping again \n",
    "    fullData = fullData.groupby(key_columns, as_index=False)[\"count_of_pickups\"].sum()\n",
    "    fullData['Pickup_Date'] = pd.to_datetime(fullData['Pickup_Date'])\n",
    "    fullData['Day_of_week'] = fullData['Pickup_Date'].dt.dayofweek\n",
    "    fullData[\"Workday_flag\"]=1\n",
    "    fullData.loc[((fullData['Pickup_Date']=='2016-01-01')|\n",
    "                      (fullData['Pickup_Date']=='2016-01-18')|\n",
    "                      (fullData['Pickup_Date']=='2016-02-12')|\n",
    "                      (fullData['Pickup_Date']=='2016-02-15')|\n",
    "                      (fullData['Pickup_Date']=='2016-05-30')|\n",
    "                      (fullData['Pickup_Date']=='2016-07-04')|\n",
    "                      (fullData['Pickup_Date']=='2016-09-15')|\n",
    "                      (fullData['Pickup_Date']=='2016-10-10')|\n",
    "                      (fullData['Pickup_Date']=='2016-11-08')|\n",
    "                      (fullData['Pickup_Date']=='2016-11-11')|\n",
    "                      (fullData['Pickup_Date']=='2016-11-24')|\n",
    "                      (fullData['Pickup_Date']=='2016-12-25')|\n",
    "                      (fullData['Day_of_week']==5)|\n",
    "                        (fullData['Day_of_week']==6)),['Workday_flag']]=0\n",
    "    print(\"Shape of new df = \" + str(fullData.shape) )\n",
    "    print(\"columns in new df : \" + str(list(fullData.columns.values)))    \n",
    "        \n",
    "    #     Combine weather data\n",
    "    fullData['Pickup_Date'] = pd.to_datetime(fullData['Pickup_Date'])\n",
    "    weatherData['date'] = pd.to_datetime(weatherData['date'])\n",
    "    combinedDataForDrivers = pd.merge(fullData, weatherData,  how='inner', left_on=['Pickup_Date','Hour_of_day'], right_on = ['date','hour'])\n",
    "    #drop NAs\n",
    "    combinedDataForDrivers.dropna(how='any')\n",
    "    print(\"Shape of combinedDataForDrivers = \" + str(combinedDataForDrivers.shape) )\n",
    "    combinedDataForDrivers.to_csv(\"Data/combinedForDriver_yellow_tripdata_2016-\" + fn + \".csv\", sep=',', index = False)"
   ]
  }
 ],
 "metadata": {
  "anaconda-cloud": {},
  "kernelspec": {
   "display_name": "Python [default]",
   "language": "python",
   "name": "python3"
  },
  "language_info": {
   "codemirror_mode": {
    "name": "ipython",
    "version": 3
   },
   "file_extension": ".py",
   "mimetype": "text/x-python",
   "name": "python",
   "nbconvert_exporter": "python",
   "pygments_lexer": "ipython3",
   "version": "3.5.2"
  }
 },
 "nbformat": 4,
 "nbformat_minor": 2
}
