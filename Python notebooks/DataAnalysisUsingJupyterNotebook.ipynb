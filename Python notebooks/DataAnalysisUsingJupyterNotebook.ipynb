{
 "cells": [
  {
   "cell_type": "code",
   "execution_count": null,
   "metadata": {
    "collapsed": false
   },
   "outputs": [],
   "source": [
    "import pandas as pd\n",
    "import numpy as np\n",
    "\n",
    "# encoding = \"ISO-8859-1\",\n",
    "Data = pd.read_csv(\"G:/ADS_Project/Data/combinedData_yellow_tripdata_2016-05.csv\", sep = \",\",encoding = \"ISO-8859-1\",  low_memory= True, skiprows=0,\n",
    "                   usecols= ['Pickup_Date', 'Precipitation_flag', 'TemperatureF','trip_distance','fare_amount','Pickup_Time','Dropoff_Time','Dew_PointF',\n",
    "                            'Wind_SpeedMPH'])\n",
    "Data.head()"
   ]
  },
  {
   "cell_type": "code",
   "execution_count": null,
   "metadata": {
    "collapsed": false
   },
   "outputs": [],
   "source": [
    "f, ax = plt.subplots(2, 1, figsize = (13,20))\n",
    "ax1 = (Data.groupby(\"Pickup_Date\").count()).plot(kind = \"line\", ax = ax[0])\n",
    "ax2 = Data.plot(x = \"Pickup_Date\", y = \"TemperatureF\", ax = ax[1])\n",
    "ax2 = Data.plot(x = \"Pickup_Date\", y = \"Dew_PointF\", ax = ax[1])\n",
    "ax2 = Data.plot(x = \"Pickup_Date\", y = \"Wind_SpeedMPH\", ax = ax[1])\n",
    "\n",
    "ax1.set_title(\"Taxi rides in 2016-05\", fontsize = 15)\n",
    "ax2.set_title(\"Extreme weather 2016-05\", fontsize = 15)"
   ]
  },
  {
   "cell_type": "code",
   "execution_count": null,
   "metadata": {
    "collapsed": false
   },
   "outputs": [],
   "source": [
    "import matplotlib.pyplot as plt\n",
    "#from urllib import urlopen\n",
    "import os\n",
    "import csv\n",
    "import scipy.stats\n",
    "import pandas as pd\n",
    "import numpy as np\n",
    "\n",
    "%matplotlib inline"
   ]
  },
  {
   "cell_type": "code",
   "execution_count": null,
   "metadata": {
    "collapsed": false
   },
   "outputs": [],
   "source": [
    "# #################\n",
    "# # Extract the coordinates of each pick-up\n",
    "# #################\n",
    "pydf = Data[['pickup_latitude','pickup_longitude']]\n",
    "\n",
    "################################################################################\n",
    "# Make a scatter plot of the yellow taxi location data for the month of May 2016\n",
    "#################################################################################\n",
    "fig = plt.figure(figsize=(10,10))\n",
    "plt.scatter(pydf['pickup_longitude'], pydf['pickup_latitude'], color='yellow', s=0.5, label='Yellow taxis')\n",
    "plt.title('NYC Taxi Pickup Locations May 2016')\n",
    "plt.xlabel('Longitude')\n",
    "plt.ylabel('Latitude')\n",
    "plt.xlim(-74.259090,-73.600272)#-74.259090,-73.700272)\n",
    "plt.ylim(40.517399, 40.997577)#40.477399, 40.917577)\n",
    "#plt.grid()\n",
    "plt.gca().set_axis_bgcolor('green')\n",
    "plt.legend()\n",
    "plt.show()\n",
    "\n",
    "# #################\n",
    "# # Extract the coordinates of each drop-off\n",
    "# #################\n",
    "dfpt = Data[['dropoff_latitude','dropoff_longitude']]\n",
    "\n",
    "\n",
    "################################################################################\n",
    "# Make a scatter plot of the yellow taxi location data for the month of May 2016\n",
    "#################################################################################\n",
    "fig = plt.figure(figsize=(10,10))\n",
    "plt.scatter(dfpt['dropoff_longitude'], dfpt['dropoff_latitude'], color='white', s=0.5, label='Yellow taxis')\n",
    "plt.title('NYC Taxi Drop-Off Locations May 2016')\n",
    "plt.xlabel('Longitude')\n",
    "plt.ylabel('Latitude')\n",
    "plt.xlim(-74.259090,-73.600272)#-74.259090,-73.700272)\n",
    "plt.ylim(40.517399, 40.997577)#40.477399, 40.917577)\n",
    "#plt.grid()\n",
    "plt.gca().set_axis_bgcolor('green')\n",
    "plt.legend()\n",
    "plt.show()"
   ]
  },
  {
   "cell_type": "code",
   "execution_count": null,
   "metadata": {
    "collapsed": false
   },
   "outputs": [],
   "source": [
    "##################################################\n",
    "# Extract the tip and total amount data\n",
    "##################################################\n",
    "tiptotalamountsydf = Data[['tip_amount','total_amount']]\n",
    "\n",
    "cleantiptotalamountsydf = tiptotalamountsydf.loc[tiptotalamountsydf['total_amount'].isin(range(1,201))]\n",
    "\n",
    "#########################################################\n",
    "# Make a scatter plot of the tip and total amount data\n",
    "#########################################################\n",
    "x = cleantiptotalamountsydf['total_amount'] - cleantiptotalamountsydf['tip_amount']\n",
    "y = cleantiptotalamountsydf['tip_amount']\n",
    "\n",
    "fig = plt.figure(figsize=(10,10))\n",
    "plt.scatter(x, y)\n",
    "plt.title('NYC Taxi Tips by Total Amount, May 2016')\n",
    "plt.xlabel('Total Amount without Tip')\n",
    "plt.ylabel('Tip')\n",
    "plt.xlim(0,200)\n",
    "plt.ylim(0,200)\n",
    "plt.show()"
   ]
  },
  {
   "cell_type": "code",
   "execution_count": null,
   "metadata": {
    "collapsed": false
   },
   "outputs": [],
   "source": [
    "#################\n",
    "# Make a scatter plot of the tip and total amount data and a linear regression model\n",
    "#################\n",
    "x = cleantiptotalamountsydf['total_amount'] - cleantiptotalamountsydf['tip_amount']\n",
    "y = cleantiptotalamountsydf['tip_amount']\n",
    "\n",
    "fit = np.polyfit(x, y, deg=1)\n",
    "print('Slope =', fit[0])\n",
    "print('y-intercept =', fit[1])\n",
    "\n",
    "fig = plt.figure(figsize=(10,10))\n",
    "plt.scatter(x, y)\n",
    "plt.plot(x, fit[0] * x + fit[1], color='red')\n",
    "plt.title('NYC Taxi Tips by Total Amount, May 2016')\n",
    "plt.xlabel('Total Amount without Tip')\n",
    "plt.ylabel('Tip')\n",
    "plt.xlim(0,200)\n",
    "plt.ylim(0,200)\n",
    "plt.show()"
   ]
  },
  {
   "cell_type": "code",
   "execution_count": null,
   "metadata": {
    "collapsed": false
   },
   "outputs": [],
   "source": [
    "import seaborn as sns\n",
    "import scipy\n",
    "# explore the data\n",
    "g = sns.pairplot(Data, x_vars = \"trip_distance\", y_vars = \"fare_amount\", \n",
    "                 size = 5, aspect = 1.5, kind = \"reg\")\n",
    "plt.xlabel(\"Distance\")\n",
    "plt.ylabel(\"Fare Amount\")"
   ]
  },
  {
   "cell_type": "code",
   "execution_count": null,
   "metadata": {
    "collapsed": false
   },
   "outputs": [],
   "source": [
    "import pandas as pd\n",
    "import numpy as np\n",
    "\n",
    "# encoding = \"ISO-8859-1\",\n",
    "Data = pd.read_csv(\"G:/ADS_Project/Data/combinedData_yellow_tripdata_2016-01.csv\", sep = \",\",encoding = \"ISO-8859-1\",  low_memory= True, skiprows=0,\n",
    "                   usecols= ['Pickup_Date', 'Precipitation_flag', 'TemperatureF','trip_distance','fare_amount','Pickup_Time','Dropoff_Time','Dew_PointF',\n",
    "                            'Wind_SpeedMPH'])\n",
    "Data.head()"
   ]
  },
  {
   "cell_type": "code",
   "execution_count": null,
   "metadata": {
    "collapsed": false
   },
   "outputs": [],
   "source": [
    "f, ax = plt.subplots(2, 1, figsize = (13,20))\n",
    "ax1 = (Data.groupby(\"Pickup_Date\").count()).plot(kind = \"line\", ax = ax[0])\n",
    "ax2 = Data.plot(x = \"Pickup_Date\", y = \"Precipitation_flag\", ax = ax[1])\n",
    "\n",
    "ax1.set_title(\"Taxi rides in 2016-06\", fontsize = 15)\n",
    "ax2.set_title(\"Extreme weather 2016-06\", fontsize = 15)"
   ]
  },
  {
   "cell_type": "code",
   "execution_count": null,
   "metadata": {
    "collapsed": false
   },
   "outputs": [],
   "source": [
    "badweather_june = Data[\"Precipitation_flag\"] > 0\n",
    "badweather_june.count()"
   ]
  },
  {
   "cell_type": "code",
   "execution_count": null,
   "metadata": {
    "collapsed": false
   },
   "outputs": [],
   "source": [
    "f, ax = plt.subplots(2, 1, figsize = (13,20))\n",
    "ax1 = (Data.groupby(\"Pickup_Date\").count()).plot(kind = \"line\", ax = ax[0])\n",
    "ax2 = Data.plot(x = \"Pickup_Date\", y = \"TemperatureF\", ax = ax[1])\n",
    "ax2 = Data.plot(x = \"Pickup_Date\", y = \"Dew_PointF\", ax = ax[1])\n",
    "ax2 = Data.plot(x = \"Pickup_Date\", y = \"Wind_SpeedMPH\", ax = ax[1])\n",
    "\n",
    "ax1.set_title(\"Taxi rides in 2016-06\", fontsize = 15)\n",
    "ax2.set_title(\"Extreme weather 2016-06\", fontsize = 15)"
   ]
  },
  {
   "cell_type": "code",
   "execution_count": null,
   "metadata": {
    "collapsed": false
   },
   "outputs": [],
   "source": [
    "import pandas as pd\n",
    "import numpy as np\n",
    "\n",
    "# encoding = \"ISO-8859-1\",\n",
    "Data = pd.read_csv(\"G:/ADS_Project/Data/combinedData_yellow_tripdata_2016-03.csv\", sep = \",\",encoding = \"ISO-8859-1\",  low_memory= True, skiprows=0,\n",
    "                   usecols= ['Pickup_Date', 'Precipitation_flag', 'TemperatureF','trip_distance','fare_amount','Pickup_Time','Dropoff_Time','Dew_PointF',\n",
    "                            'Wind_SpeedMPH'])\n",
    "Data.head()"
   ]
  },
  {
   "cell_type": "code",
   "execution_count": null,
   "metadata": {
    "collapsed": false
   },
   "outputs": [],
   "source": [
    "f, ax = plt.subplots(2, 1, figsize = (13,20))\n",
    "ax1 = (Data.groupby(\"Pickup_Date\").count()).plot(kind = \"line\", ax = ax[0])\n",
    "ax2 = Data.plot(x = \"Pickup_Date\", y = \"trip_distance\", ax = ax[1])\n",
    "\n",
    "ax1.set_title(\"Taxi rides in 2016-03\", fontsize = 15)\n",
    "ax2.set_title(\"Distance\" , fontsize = 15)"
   ]
  }
 ],
 "metadata": {
  "kernelspec": {
   "display_name": "Python 3",
   "language": "python",
   "name": "python3"
  },
  "language_info": {
   "codemirror_mode": {
    "name": "ipython",
    "version": 3
   },
   "file_extension": ".py",
   "mimetype": "text/x-python",
   "name": "python",
   "nbconvert_exporter": "python",
   "pygments_lexer": "ipython3",
   "version": "3.5.3"
  }
 },
 "nbformat": 4,
 "nbformat_minor": 2
}
